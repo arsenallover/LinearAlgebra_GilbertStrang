{
 "metadata": {
  "language_info": {
   "codemirror_mode": {
    "name": "ipython",
    "version": 3
   },
   "file_extension": ".py",
   "mimetype": "text/x-python",
   "name": "python",
   "nbconvert_exporter": "python",
   "pygments_lexer": "ipython3",
   "version": 3
  },
  "orig_nbformat": 2
 },
 "nbformat": 4,
 "nbformat_minor": 2,
 "cells": [
  {
   "source": [
    "## Norms\n",
    "\n",
    "* Measure of size of vectors, matrices, tensors or functions (ex : sinx)\n",
    "\n",
    "## Vector Norm:\n",
    "\n",
    "* L2 : $||v||_2 = \\sqrt {|v_1|^2 + ... + |v_n|^2} $\n",
    "    * if L2 = 1, in 2D case it is circle ($v_1^2 + v_2^2 = 1$)\n",
    "\n",
    "* L1 : $||v||_1 = |v_1| + ... + |v_n| $ \n",
    "    * Special and has very important at times\n",
    "    \n",
    "    * if L1 = 1, in 2D case it is diamond ($|v_1| + |v_2| = 1$ is linear equation or lines)\n",
    "\n",
    "    * each face of diamond is v1+v2 = 1, bcos we are taking |v|.\n",
    "\n",
    "* Lp : $||v||_p = {|v_1|^p + ... + |v_n|^p}^{\\frac{1}{p}} $\n",
    "\n",
    "* $L_{\\inf} : max |v_i| $ \n",
    "    * As you increase p, whichever term raised to p is highest will play major role in final value\n",
    "    * if $L_{\\inf} = 1$, in 2D case it is square with dimension 2. Distance to origin from everywhere is 1 -> square\n",
    "\n",
    "* $L_0 : ||v||_0 $ \n",
    "    * Number of non-zero components\n",
    "    * Doesnt ideally measure size. Hence violates the norm definition\n",
    "\n",
    "* As seen below, when you move from 0 to inf, the zone opens out from line along axis to square\n",
    "\n",
    "![title](images\\08_Norms_1.PNG)\n",
    "\n",
    "* The 0.5 norm becomes like one shown as dotted line within 1. They violates properties of norm, triangle inequality\n"
   ],
   "cell_type": "markdown",
   "metadata": {}
  },
  {
   "source": [
    "## L1 & L2 Norm Explained\n",
    "\n",
    "* Consider $ c1*x1 + c2*x2 = b $ and you are trying to minimize the norm\n",
    "\n",
    "* It is equation of line, where on the line we have the min of l1, l2 norms?\n",
    "\n",
    "![title](images\\08_Norms_2.PNG)\n",
    "\n",
    "* L2 Norm : The point on the line where L2 norm is min is the point which is perpendicular. That the point the distance(l2 norm) is minimum\n",
    "\n",
    "* L1 Norm : It the point on y axis for this case, as we know that would yield the lowest value"
   ],
   "cell_type": "markdown",
   "metadata": {}
  },
  {
   "source": [
    "### Properties of Norm :\n",
    "* ||cv|| = |c|*||v||\n",
    "\n",
    "* ||v + w|| =< ||v|| + ||w|| Triangle Inequality (where hyp is always less than the sum of other two)\n",
    "\n",
    "* $||Qv||_2^2 = (Qv)^T(Qv) = (Q^TQ)||v||_2^2 = ||v||_2^2 $\n",
    "    This says when you multiply by orthogonal matrix with any vector and take its norm, it doesnt change. The hypotenuse changes direction through Q but nt the length\n",
    "\n",
    "## Matrix Norm:\n",
    "\n",
    "* $||A||_2 = \\sigma_1 $\n",
    "\n",
    "    * $||A||_2 = max \\frac {||Ax||_2}{||x||_2} $ This is seen as the max blown up vector due to transformation\n",
    "\n",
    "    * If x was eigen vector the above equation of norm is the $\\lambda$\n",
    "    * So the norm for any other vector is the v1 (1st singular vector)\n",
    "\n",
    "    * $ \\frac {||Av1||_2}{||v1||_2}  = \\frac {||\\sigma_1 u1||_2}{1} = \\sigma_1 $\n",
    "\n",
    "    * we saw during svd, for any matrix A -> $Av = \\sigma u$. where u, v are orthogonal unit vectors\n",
    "* Frobenius Norm: \n",
    "    * Using all single elements in matrix\n",
    "     \n",
    "    * bcos $ A = u \\sum v^T $. u, v are orthogonal and they dont change the length/norm hence norm(A) = norm($\\sum$)\n",
    "    \n",
    "$||A||_F = \\sqrt {|a_{11}|^2 + |a_{12}|^2... + |a_{mn}|^2} = \\sqrt {\\sigma_1^2 + \\sigma_2^2... + \\sigma_r^2} $\n",
    "   \n",
    "   \n",
    "    \n",
    "* $||A||_{nuclear} = \\sigma_1 + \\sigma_2 + ... + \\sigma_r $\n",
    "\n"
   ],
   "cell_type": "markdown",
   "metadata": {}
  }
 ]
}