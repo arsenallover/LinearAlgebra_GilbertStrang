{
 "metadata": {
  "language_info": {
   "codemirror_mode": {
    "name": "ipython",
    "version": 3
   },
   "file_extension": ".py",
   "mimetype": "text/x-python",
   "name": "python",
   "nbconvert_exporter": "python",
   "pygments_lexer": "ipython3",
   "version": 3
  },
  "orig_nbformat": 2
 },
 "nbformat": 4,
 "nbformat_minor": 2,
 "cells": [
  {
   "source": [
    "## Orthonormal Columns\n",
    "\n",
    "* $ Q^T Q = I $\n",
    "\n",
    "* $Q Q^T = I $ only if Q is square or if inverse exists, in that case Q = orthogonal matrix"
   ],
   "cell_type": "markdown",
   "metadata": {}
  },
  {
   "source": [
    "* In the below case Qx = b\n",
    "$$ \\begin{bmatrix} cos\\theta & -sin\\theta \\\\ sin\\theta & cos\\theta \\end{bmatrix}\\begin{bmatrix} 1 \\\\ 0 \\end{bmatrix} = \\begin{bmatrix} cos\\theta \\\\ sin\\theta \\end{bmatrix}$$\n",
    "\n",
    "* Q = square & orthonormal matrix (indiv vectors have unit norm and they are perpendicular to each other)\n",
    "\n",
    "* Qx = b translates the $[1, 0]$ vector into vector with angle of $\\theta$\n",
    "\n",
    "* Take any x, $ ||Qx|| = ||x||, they dont change the length of x"
   ],
   "cell_type": "markdown",
   "metadata": {}
  },
  {
   "source": [
    "## Where orthonormal matrices\n",
    "\n",
    "* Eigen Vectors\n",
    "\n",
    "* Eigen Vectors are orthogonal for \n",
    "    * symmetric matrix : $S^T = S$\n",
    "    * orthogonal matrix : $ Q^T Q = I $"
   ],
   "cell_type": "markdown",
   "metadata": {}
  }
 ]
}