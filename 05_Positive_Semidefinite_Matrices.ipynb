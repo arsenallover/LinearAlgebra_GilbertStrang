{
 "metadata": {
  "language_info": {
   "codemirror_mode": {
    "name": "ipython",
    "version": 3
   },
   "file_extension": ".py",
   "mimetype": "text/x-python",
   "name": "python",
   "nbconvert_exporter": "python",
   "pygments_lexer": "ipython3",
   "version": 3
  },
  "orig_nbformat": 2
 },
 "nbformat": 4,
 "nbformat_minor": 2,
 "cells": [
  {
   "source": [
    "## Positive Definite\n",
    "\n",
    "* Best of any matrix bcos it is symmetric and has + Evals\n",
    "\n",
    "* not easy to test though"
   ],
   "cell_type": "markdown",
   "metadata": {}
  },
  {
   "source": [
    "## Testing + definite\n",
    "\n",
    "* All Eigen Values > 0\n",
    "\n",
    "    * S = $ \\begin{bmatrix} 3 & 4 \\\\ 4 & 5 \\end{bmatrix} $\n",
    "\n",
    "        * Is not + Definite \n",
    "    \n",
    "        * Det(S) = -1 -> $\\prod \\  (\\lambda)$ is - -> nt + evals\n",
    "\n",
    "* Leading determinants > 0:\n",
    "    \n",
    "    * S = $ \\begin{bmatrix} -3 & 4 \\\\ 4 & 5 \\end{bmatrix} $\n",
    "    \n",
    "        * 1*1 det should be +  \n",
    "    \n",
    "        * 1*1 det = -3 -> not + definite\n",
    "\n",
    "* All in Pivots in elimination > 0:\n",
    "    * S = $ \\begin{bmatrix} 3 & 4 \\\\ 4 & 5 \\end{bmatrix} $\n",
    "    \n",
    "    * 1st Pivot = 3 ->     * S = $ \\begin{bmatrix} 3 & 4 \\\\ 0 & 2/3 \\end{bmatrix} $\n",
    "    \n",
    "    * 2nd Pivot = 2/3\n",
    "    * All + -> + definite\n",
    "\n",
    "* Energy $ x^T * S * x > 0 $ for every x:\n",
    "    * $ \\begin{bmatrix} x & y \\end{bmatrix} \\begin{bmatrix} 3 & 4 \\\\ 4 & 5 \\end{bmatrix}\\begin{bmatrix} x \\\\ y \\end{bmatrix} = 3x^2 + 6y^2 + 8xy $\n",
    "    \n",
    "    * It is always + in the above case\n",
    "    \n",
    "    * The energy is interms the loss function -> minimize the energy $x^T S X $. \n",
    "\n",
    "\n"
   ],
   "cell_type": "markdown",
   "metadata": {}
  },
  {
   "source": [
    "## Eval & Gradient Descent\n",
    "\n",
    "* If you have one small & one large Evals -> it can tell the shape of the bowl (cost function)\n",
    "\n",
    "* If evals are equal, the cost function is perfect circle -> we hit the bottom so soon.\n",
    "\n",
    "* You will keep going up and down -> prob of grad descent (wiggly update)\n",
    "\n",
    "* postive definite matrices gives us + evals -> a bowl. We have problems only if those evals are far apart!\n"
   ],
   "cell_type": "markdown",
   "metadata": {}
  },
  {
   "source": [
    "## Positive Semi Definite\n",
    "\n",
    "* All the above conditions instead of > 0 it should be >= 0 \n",
    "    * $ \\lambda >= 0 $\n",
    "    \n",
    "    * $ S = A^T A ( ) \n",
    "\n",
    "    * $ x^T S x >= 0 $ etc\n",
    "\n",
    "* S = $ \\begin{bmatrix} 3 & 4 \\\\ 4 & 16/3 \\end{bmatrix} $\n",
    "\n",
    "    * Det(S) = 0 -> one $\\lambda$ = 0\n",
    "\n",
    "    * Other $\\lambda$ = (Trace - 0) -> 3 + 16/3\n",
    "    \n",
    "    * $\\lambda$ = 8/3, 0\n",
    "\n",
    "* S = $ \\begin{bmatrix} 1 & 1 & 1 \\\\ 1 & 1 & 1 \\\\ 1 & 1 & 1 \\end{bmatrix} $\n",
    "\n",
    "    * It is + semi-Definite with $\\lambda$ = 3, 0, 0\n",
    "    \n",
    "    * Rank = 1 -> one non zero eval -> Trace tells that value\n"
   ],
   "cell_type": "markdown",
   "metadata": {}
  }
 ]
}