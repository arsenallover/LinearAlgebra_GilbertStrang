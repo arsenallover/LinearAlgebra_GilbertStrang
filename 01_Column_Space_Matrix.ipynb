{
 "metadata": {
  "language_info": {
   "codemirror_mode": {
    "name": "ipython",
    "version": 3
   },
   "file_extension": ".py",
   "mimetype": "text/x-python",
   "name": "python",
   "nbconvert_exporter": "python",
   "pygments_lexer": "ipython3",
   "version": 3
  },
  "orig_nbformat": 2
 },
 "nbformat": 4,
 "nbformat_minor": 2,
 "cells": [
  {
   "source": [
    "* The below multiplication can be seen as two ways:\n",
    "\n",
    "$$ \\begin{bmatrix} 2 & 1 & 3 \\\\ 3 & 1 & 4 \\\\ 5 & 7 & 12 \\end{bmatrix}\\begin{bmatrix} x1 \\\\ x2 \\\\ x3\\end{bmatrix}$$\n",
    "\n",
    "\n",
    "* Row-wise multiplication: Dot Product \n",
    "\n",
    "* Column-wise multiplication:\n",
    "$$ x1* \\begin{bmatrix} 2 \\\\ 3\\\\ 5 \\end{bmatrix} + x2* \\begin{bmatrix} 1 \\\\ 1\\\\ 7 \\end{bmatrix} + x3* \\begin{bmatrix} 3 \\\\ 4\\\\ 12 \\end{bmatrix}$$\n",
    "\n",
    "* Remember a vector multiplication with matrix gives another vector (tranforms the original vector - changes its direction in space. \n",
    "\n",
    "* In that case, the first component is $2x1 + x2 + 3x3$\n"
   ],
   "cell_type": "markdown",
   "metadata": {}
  },
  {
   "source": [
    "## Column Space & Column Rank\n",
    "\n",
    "* Column Space :  All combinations of columns\n",
    "\n",
    "* Column Rank : Number of independent vectors/columns in A\n",
    "\n",
    "* In the above case, the column space is a plane and not the entire R3 space -> 3rd = 1st + 2nd vectors are dependent. Rank(A) = 2 \n",
    "\n",
    "* C(A) below is a line or Col Rank(A) = 1\n",
    "$$ \\begin{bmatrix} 1 & 3 & 8 \\\\ 1 & 3 & 8 \\\\ 1 & 3 & 8 \\end{bmatrix}$$\n",
    "\n",
    "* $C(A^T)$ is row space of A"
   ],
   "cell_type": "markdown",
   "metadata": {}
  },
  {
   "source": [
    "## Basis\n",
    "\n",
    "* Basis are those vectors\n",
    "    * Which are independent\n",
    "    * Their combinations fills the entire space\n",
    "\n",
    "* Factor matrix A as = Col Space * Row Space\n",
    "\n",
    "$$ A = C \\ * \\ R $$\n",
    "\n",
    "$$ \\begin{bmatrix} 2 & 1 & 3 \\\\ 3 & 1 & 4 \\\\ 5 & 7 & 12 \\end{bmatrix} = \\begin{bmatrix} 2 & 1 \\\\ 3 & 1 \\\\ 5 & 7 \\end{bmatrix} \\begin{bmatrix} 1 & 0 & 1 \\\\ 0 & 1 & 1 \\end{bmatrix} $$\n",
    "\n",
    "* The C & R matrix has two vectors and they are the basis for column space and row space respectively\n",
    "\n",
    "* In general, Column Rank = Row Rank\n",
    "\n",
    "* But the row space is not as straight forward as column space. Or we need to prove how R is the basis \n"
   ],
   "cell_type": "markdown",
   "metadata": {}
  },
  {
   "source": [
    "## Proving Row Space\n",
    "\n",
    "* Hows R the row space (basis) for A\n",
    "\n",
    "* They are independent\n",
    "\n",
    "* Their combination of (2, 1), (3, 1) and (5, 7) produces the last row value of A !!"
   ],
   "cell_type": "markdown",
   "metadata": {}
  }
 ]
}