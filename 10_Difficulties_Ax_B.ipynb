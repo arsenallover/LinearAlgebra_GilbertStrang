{
 "metadata": {
  "language_info": {
   "codemirror_mode": {
    "name": "ipython",
    "version": 3
   },
   "file_extension": ".py",
   "mimetype": "text/x-python",
   "name": "python",
   "nbconvert_exporter": "python",
   "pygments_lexer": "ipython3",
   "version": 3
  },
  "orig_nbformat": 2
 },
 "nbformat": 4,
 "nbformat_minor": 2,
 "cells": [
  {
   "source": [
    "## Difficulties in solving Ax = b\n",
    "\n",
    "In order of easy to complex\n",
    "\n",
    "1. $x = A^+ b : Pseudoinverse\n",
    "\n",
    "2. m = n, ie Square matrix of reasonable size. Condition $\\frac{\\sigma_1}{\\sigma_n} = reasonable$ , normal elimination would work\n",
    "\n",
    "3. m > n = rank. Too many equations & A not too big (implies $A^T A$ is possible) -> use normal equation -> $A^T A \\hat x = A^T b $\n",
    "\n",
    "4. m < n -> no enough equations(typical DL : lots of weights (unknowns)) -> many solutions possible. Pick the solution that has min l norms\n",
    "\n",
    "5. Columns are dependent, inverse does exist -> Use Gram Schmidt -> orthogonalize the A = QR   \n",
    "\n",
    "6. Near Singular (inverse will be big), Inverse Problems, Adding penalty\n",
    "$ min \\ ||Ax - b||^2 + \\delta^2 ||x||^2 $\n",
    "\n",
    "7. Iterative Methods"
   ],
   "cell_type": "markdown",
   "metadata": {}
  }
 ]
}