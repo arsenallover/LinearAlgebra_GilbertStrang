{
 "metadata": {
  "language_info": {
   "codemirror_mode": {
    "name": "ipython",
    "version": 3
   },
   "file_extension": ".py",
   "mimetype": "text/x-python",
   "name": "python",
   "nbconvert_exporter": "python",
   "pygments_lexer": "ipython3",
   "version": 3
  },
  "orig_nbformat": 2
 },
 "nbformat": 4,
 "nbformat_minor": 2,
 "cells": [
  {
   "source": [
    "## 4 ways to solve Least Squares\n",
    "\n",
    "1. Pseudo-Inverse\n",
    "2. Solve $A^T A \\hat x = A^T b $\n",
    "3. Orthogonalize\n",
    "4. $(A^T A + \\delta^2 I) x_v = A^T b $"
   ],
   "cell_type": "markdown",
   "metadata": {}
  },
  {
   "source": [
    "## Step 1: Pseudo-inverse\n",
    "\n",
    "* Consider rectangular matrix A = m, n. The inverse exists only for square matrix and it should ve rank (m - full size)\n",
    "\n",
    "* Hence, we calculate the pseudo-inverse $A^+$ = n, m\n",
    "\n",
    "* If $A^{-1}$ exists, then $A^{-1}A$ = $AA^{-1}$ = I, then $A^{-1} = A^{+}$"
   ],
   "cell_type": "markdown",
   "metadata": {}
  },
  {
   "source": [
    "## Whats about pseudo-inverse\n",
    "\n",
    "* Assume you are doing converting the row space, x into column space, y via (x -> A -> Ax = y). Transforming x into y by A.\n",
    "\n",
    "* What if you want the x back? $A^{+}Ax$ = x. \n",
    "\n",
    "* This is true if x in row space and not in null space. Bcos in null space Ax = 0, there is no way we can get it back, it again goes to 0\n",
    "\n",
    "* If A is square matrix then there is no null space -> no problem with bringing back from col space to row space (basically transformation back n forth)\n",
    "\n",
    "![title](images\\09_PseudoInverse_1.PNG)\n",
    "\n",
    "* Now $A^+A$ is identity on top half (row space) and 0 on bottom half(null space), so that $A^+x$ = 0"
   ],
   "cell_type": "markdown",
   "metadata": {}
  },
  {
   "source": [
    "## Step 2:\n",
    "* Problem : Ax = b has no solutions, because n equations and m unknowns stup\n",
    "\n",
    "* Best way to solve this is by Gauss. minimize error $||Ax -b||_2^2$\n",
    " $||Ax -b||_2^2 = (Ax - b)^T(Ax - b) $\n",
    "\n",
    " * This will lead to solution with best possible $\\hat x$, $A^T A \\hat x = A^T b$"
   ],
   "cell_type": "markdown",
   "metadata": {}
  }
 ]
}