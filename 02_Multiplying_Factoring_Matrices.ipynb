{
 "metadata": {
  "language_info": {
   "codemirror_mode": {
    "name": "ipython",
    "version": 3
   },
   "file_extension": ".py",
   "mimetype": "text/x-python",
   "name": "python",
   "nbconvert_exporter": "python",
   "pygments_lexer": "ipython3",
   "version": 3
  },
  "orig_nbformat": 2
 },
 "nbformat": 4,
 "nbformat_minor": 2,
 "cells": [
  {
   "source": [
    "## Factorizations\n",
    "\n",
    "* $ A = L \\ U $    **Elimination**\n",
    "    * where L, U -> Lower and Upper Trian Matrices\n",
    "\n",
    "* $ A = Q \\ R $    **Gram-Schmidt**\n",
    "    * where Q, R -> Orthonormal, Upper Trian Matrices\n",
    "    * Used in Least Squares, Eigen Value Prob\n",
    "\n",
    "* $ S = Q \\ \\Lambda \\ Q^T $ \n",
    "    * S any symmetric matrix, Q : Eigen Vectors (They r orthogonal), $\\Lambda$ : Eigen Values\n",
    "    *  $\\Lambda$ is real if S is symmetric\n",
    "\n",
    "* $ A = U \\sum V^T $  **SVD**\n",
    "    * Works for any matrix (not necessarily symmetric)\n",
    "    * Orthogonal \\* Diagonal \\* Orthogonal\n"
   ],
   "cell_type": "markdown",
   "metadata": {}
  },
  {
   "source": [
    "## LU Factorization\n",
    "* A = L U is form of elimination.\n",
    "\n",
    "* Why would u need it? elimination is required to solve coupled linear equations.\n",
    "\n",
    "* As you see below the equation was :\n",
    "    * 2x + 3y = z1 and 4x + 7y = z2\n",
    "    * To solve this, we did elimination and got U. Which decouples x & y\n",
    "\n",
    "$$ \\begin{bmatrix} 2 & 3 \\\\ 4 & 7 \\end{bmatrix} = \\begin{bmatrix} 1 & 0 \\\\ 2 & 1\\end{bmatrix} \\begin{bmatrix} 2 & 3 \\\\ 0 & 1 \\end{bmatrix}$$"
   ],
   "cell_type": "markdown",
   "metadata": {}
  },
  {
   "source": [
    "## 4 Fundamental Subspaces\n",
    "\n",
    "* Consider  A (m*n) of rank r\n",
    "\n",
    "* Space is region where you can apply linear algebric equations (like plane -2d space, line - 1d space)\n",
    "\n",
    "* Subspace : part of space\n",
    "\n",
    "1. Column Space C(A) : dim(r)\n",
    "\n",
    "2. Row Space $ C(A^T)$ : dim(r)\n",
    "\n",
    "3. Null Space N(A) : All solutions for Ax = 0 : dim(n-r)\n",
    "\n",
    "\n",
    "4. Null Space $N(A^T)$ : dim(m - r)"
   ],
   "cell_type": "markdown",
   "metadata": {}
  },
  {
   "source": [
    "## Null space\n",
    "* Consider the below matrix A\n",
    "$$ \\begin{bmatrix} 1 & 2 & 4 \\\\ 2 & 4 & 8\\end{bmatrix} $$\n",
    "* Matrix A dimensions\n",
    "    * m, n = 2, 3\n",
    "    * r = 1 (independent space)\n",
    "    * The null space for this -> n - r -> 2 ie two independent vectors exists which has solution Ax = 0\n",
    "    \n",
    "$$ \\begin{bmatrix} 1 & 2 & 4 \\\\ 2 & 4 & 8 \\end{bmatrix}\\  \\begin{bmatrix} 0 \\\\ -2 \\\\ 1 \\end{bmatrix} \\ \\begin{bmatrix} 4 \\\\ 0 \\\\ -1 \\end{bmatrix}  = \\begin{bmatrix} 0 \\\\ 0 \\end{bmatrix} $$\n",
    "\n",
    "* Rows of A is orthogonal to those null space vectors.\n",
    "    * $ 1*0 \\ + \\ 2*-2 \\ + \\ 4*1 = 0 $\n",
    "    * The row space is orthogonal to null space\n",
    "    * Similarly column space is orthogonal to its null space\n"
   ],
   "cell_type": "markdown",
   "metadata": {}
  },
  {
   "source": [],
   "cell_type": "markdown",
   "metadata": {}
  },
  {
   "source": [],
   "cell_type": "markdown",
   "metadata": {}
  }
 ]
}