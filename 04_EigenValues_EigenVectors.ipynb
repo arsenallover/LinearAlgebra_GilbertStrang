{
 "metadata": {
  "language_info": {
   "codemirror_mode": {
    "name": "ipython",
    "version": 3
   },
   "file_extension": ".py",
   "mimetype": "text/x-python",
   "name": "python",
   "nbconvert_exporter": "python",
   "pygments_lexer": "ipython3",
   "version": "3.7.9-final"
  },
  "orig_nbformat": 2,
  "kernelspec": {
   "name": "python_defaultSpec_1600687124996",
   "display_name": "Python 3.7.9 64-bit ('d2l': conda)"
  }
 },
 "nbformat": 4,
 "nbformat_minor": 2,
 "cells": [
  {
   "source": [
    "## Eigen Values & Eigen Vectors\n",
    "\n",
    "* Special Matrices : Start with Matrix A $\\in$ Symmetric Matrix S $\\in$ Positive Definite Matrix"
   ],
   "cell_type": "markdown",
   "metadata": {}
  },
  {
   "source": [
    "## Why are they special\n",
    "\n",
    "* Eigen Vector remains same for multiples of a transformation matrix. x is still the eigen vectors for $A^n$ transformation too, but with eigen value as $\\lambda^n$\n",
    "    * $ A*x = \\lambda*x $ \n",
    "\n",
    "    * $ A^2*x = A(A*x) = A*(\\lambda*x) = \\lambda*(A*x) = \\lambda^2*x$ \n",
    "\n",
    "    * $ A^n*x = \\lambda^n*x $ \n",
    "\n",
    "    * $ A^{-1}*x = \\frac{1}{\\lambda}*x $  if $\\lambda$ = 0 -> $A^{-1}$ doesnt exists\n",
    "\n",
    "    * $ e^{At}* x = e^{\\lambda t}*x $\n",
    "\n",
    "* EVectors are the basis -> we can get any vectors in space using their combinations\n",
    "\n",
    "     * Any vector, $v = c1*x1 + c2*x2 + ... cn*xn $\n",
    "\n",
    "* Similar matrices -> same Eigen values, but diff basis (e vectors)\n",
    "     * $ B = M^{-1}*A*M $ (Condition for Similar matrix)\n",
    "\n",
    "     * $ B*y = \\lambda * y $\n",
    "     \n",
    "     * $ M^{-1}*A*M*y = \\lambda * y $\n",
    "     * $ A*M*y = \\lambda M * y $\n",
    "     \n",
    "     * $ A*z = \\lambda *z $"
   ],
   "cell_type": "markdown",
   "metadata": {}
  },
  {
   "source": [
    "## Eigen Values\n",
    "\n",
    "* $ A*x = \\lambda*x $ \n",
    "\n",
    "* $ (A -\\lambda*I)x  = 0$ Solve this to get Evalues\n",
    "\n",
    "* $\\sum \\lambda$ = Trace (Add the diag(A))\n",
    "\n",
    "* $\\prod \\ \\lambda$ = Det(A)\n",
    "\n"
   ],
   "cell_type": "markdown",
   "metadata": {}
  },
  {
   "source": [
    "## Symmetric Matrices\n",
    "\n",
    "* Eval are real, Evectors are orthogonal\n",
    "\n",
    "* S = $ \\begin{bmatrix} 0 & 1 \\\\ 1 & 0 \\end{bmatrix} $\n",
    "\n",
    "* $ \\lambda = 1, -1 $; Evectors, X =  $\\begin{bmatrix} 1 \\\\ 1 \\end{bmatrix}, \\begin{bmatrix} 1 \\\\ -1 \\end{bmatrix} $\n",
    "\n",
    "* Vectors containing evals : $\\Lambda = \\begin{bmatrix} 1 & 0 \\\\ 0 & -1 \\end{bmatrix} $\n",
    "\n",
    "* $A*X = X*\\Lambda $ -> $A = X * \\Lambda * X^{-1} $"
   ],
   "cell_type": "markdown",
   "metadata": {}
  }
 ]
}